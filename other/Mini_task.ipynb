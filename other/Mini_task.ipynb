{
 "cells": [
  {
   "cell_type": "markdown",
   "id": "489e082a-2b28-4014-b86a-331afbd0c962",
   "metadata": {},
   "source": [
    "# Мини-таск №1: Data preprocessing"
   ]
  },
  {
   "cell_type": "markdown",
   "id": "e4347ea8-0760-4bcd-b123-28ac2403316e",
   "metadata": {},
   "source": [
    "## Описание\n",
    "\n",
    "1.  Очистить и преобразовать числовые параметры, в том числе таргетную величину Kd, из строкового типа данных в числовой тип. Это может включать удаление лишних символов, конвертацию в правильный числовой формат и приведение значений к единому виду. Рекомендуется использовать для этого регулярные выражения и библиотеку re.\n",
    "2.  Обработать другие параметры, которые покажутся важными для предсказания целевой переменной (например, провести энкодинг состава буфера или типа аптамера)\n",
    "3.  Для малых молекул преобразовать названия в SMILES-представление, а для белковых мишеней - в последовательность аминокислот. Дополнить датафрейм этой информацией. Для достоверности полученных данных советуем пользоваться комбинацией библиотек requests и API баз данных (например, PubChem для поиска SMILES по названию и UniProt для поиска последовательности аминокислот белка по названию)\n",
    "4.  Найти дополнительную информацию о мишенях через различные открытые базы данных и источники. Дополнить датафрейм этой информацией, чтобы обогатить данные для последующего анализа.\n",
    "5.  Проверить качество и полноту полученного датафрейма, устранить возможные пропуски данных и неоднозначности.\n"
   ]
  },
  {
   "cell_type": "markdown",
   "id": "aae10b42-c8e7-48d2-a154-23c60f48c631",
   "metadata": {},
   "source": [
    "## 0\n",
    "Загрузим необходимые библиотеки"
   ]
  },
  {
   "cell_type": "code",
   "execution_count": 3,
   "id": "0b0a2564-52f8-479a-94b3-d30e61c4d1e7",
   "metadata": {},
   "outputs": [],
   "source": [
    "# Общие библиотеки\n",
    "import numpy as np\n",
    "import pandas as pd\n",
    "from tqdm import tqdm\n",
    "import matplotlib.pyplot as plt\n",
    "import seaborn as sns\n",
    "import re"
   ]
  },
  {
   "cell_type": "markdown",
   "id": "7bc27947-bb14-4fe5-9452-5228bdd4afa5",
   "metadata": {},
   "source": [
    "## 1\n",
    "Загрузим наш датасет и посмотрим, как он выглядит:"
   ]
  },
  {
   "cell_type": "code",
   "execution_count": 20,
   "id": "60659f17-338b-444a-8505-fc0d0886a7f8",
   "metadata": {},
   "outputs": [],
   "source": [
    "df = pd.read_excel('UTexas Aptamer Database.xlsx', header = 0)"
   ]
  },
  {
   "cell_type": "code",
   "execution_count": 21,
   "id": "b9600fcf-83eb-41d2-a868-303aeec88ee5",
   "metadata": {},
   "outputs": [
    {
     "data": {
      "text/html": [
       "<div>\n",
       "<style scoped>\n",
       "    .dataframe tbody tr th:only-of-type {\n",
       "        vertical-align: middle;\n",
       "    }\n",
       "\n",
       "    .dataframe tbody tr th {\n",
       "        vertical-align: top;\n",
       "    }\n",
       "\n",
       "    .dataframe thead th {\n",
       "        text-align: right;\n",
       "    }\n",
       "</style>\n",
       "<table border=\"1\" class=\"dataframe\">\n",
       "  <thead>\n",
       "    <tr style=\"text-align: right;\">\n",
       "      <th></th>\n",
       "      <th>Year of Paper</th>\n",
       "      <th>Link to PubMed Entry</th>\n",
       "      <th>Journals</th>\n",
       "      <th>Journal DOI</th>\n",
       "      <th>Citation</th>\n",
       "      <th>Type of Nucleic Acid</th>\n",
       "      <th>Name of Aptamer</th>\n",
       "      <th>Target</th>\n",
       "      <th>Aptamer Sequence</th>\n",
       "      <th>Sequence Length</th>\n",
       "      <th>...</th>\n",
       "      <th>pH</th>\n",
       "      <th>Molecular weight of target</th>\n",
       "      <th>Application as quoted in the referenced paper</th>\n",
       "      <th>Post-selex modifications to the aptamer</th>\n",
       "      <th>Additional Information\\n\\n</th>\n",
       "      <th>Serial Number</th>\n",
       "      <th>Parent sequence serial number</th>\n",
       "      <th>Corresponding Author Name, email address</th>\n",
       "      <th>please fill out the form for any feedbacks/comments</th>\n",
       "      <th>Aptagen Cross Referencing(Check  Aptamer Chemistry, Affinity, Length, GC content, sequence)</th>\n",
       "    </tr>\n",
       "  </thead>\n",
       "  <tbody>\n",
       "    <tr>\n",
       "      <th>0</th>\n",
       "      <td>1990</td>\n",
       "      <td>https://pubmed.ncbi.nlm.nih.gov/1697402/</td>\n",
       "      <td>Nature</td>\n",
       "      <td>https://doi.org/10.1038/346818a0</td>\n",
       "      <td>Ellington, A. D., &amp; Szostak, J. W. (1990). In ...</td>\n",
       "      <td>ssRNA</td>\n",
       "      <td>CB-42</td>\n",
       "      <td>Cibacron Blue 3GA</td>\n",
       "      <td>5'GGGAGAAUUCCCGCGGCAGAAGCCCACCUGGCUUUGAACUCUAU...</td>\n",
       "      <td>132</td>\n",
       "      <td>...</td>\n",
       "      <td>7.6</td>\n",
       "      <td>Not reported</td>\n",
       "      <td>Detection: \" Isolate RNAs that bind to several...</td>\n",
       "      <td>Not applicable</td>\n",
       "      <td>The aptamer was reported in DNA (include thymi...</td>\n",
       "      <td>10000000</td>\n",
       "      <td>NaN</td>\n",
       "      <td>Szostak JW</td>\n",
       "      <td>https://forms.gle/n4TzuyddXQrHYJXF9</td>\n",
       "      <td>NaN</td>\n",
       "    </tr>\n",
       "    <tr>\n",
       "      <th>1</th>\n",
       "      <td>1990</td>\n",
       "      <td>https://pubmed.ncbi.nlm.nih.gov/1697402/</td>\n",
       "      <td>Nature</td>\n",
       "      <td>https://doi.org/10.1038/346818a0</td>\n",
       "      <td>Ellington, A. D., &amp; Szostak, J. W. (1990). In ...</td>\n",
       "      <td>ssRNA</td>\n",
       "      <td>B4-25</td>\n",
       "      <td>Reactive Blue 4</td>\n",
       "      <td>5'GGGAGAAUUCCCGCGGCGUUGGCCCAGGAUAAUAGGACGAAAUC...</td>\n",
       "      <td>133</td>\n",
       "      <td>...</td>\n",
       "      <td>7.6</td>\n",
       "      <td>Not reported</td>\n",
       "      <td>Detection: \" Isolate RNAs that bind to several...</td>\n",
       "      <td>Not applicable</td>\n",
       "      <td>DNA library/pool was used as a template to gen...</td>\n",
       "      <td>10000001</td>\n",
       "      <td>NaN</td>\n",
       "      <td>Szostak JW</td>\n",
       "      <td>https://forms.gle/n4TzuyddXQrHYJXF9</td>\n",
       "      <td>NaN</td>\n",
       "    </tr>\n",
       "    <tr>\n",
       "      <th>2</th>\n",
       "      <td>1990</td>\n",
       "      <td>https://pubmed.ncbi.nlm.nih.gov/2200121/</td>\n",
       "      <td>Science</td>\n",
       "      <td>https://doi.org/10.1126/science.2200121</td>\n",
       "      <td>Tuerk, C., &amp; Gold, L. (1990). Systematic evolu...</td>\n",
       "      <td>ssRNA</td>\n",
       "      <td>wild type</td>\n",
       "      <td>T4 DNA polymerase (gp43)</td>\n",
       "      <td>5'GAAUUGUGGUGUUGGCUCCCUAUAGUGAGUCGUAUUAAUAUUCC...</td>\n",
       "      <td>113</td>\n",
       "      <td>...</td>\n",
       "      <td>NaN</td>\n",
       "      <td>Not reported</td>\n",
       "      <td>Detection: \" We have previously shown that the...</td>\n",
       "      <td>Not applicable</td>\n",
       "      <td>DNA library/pool was used as a template to gen...</td>\n",
       "      <td>10000002</td>\n",
       "      <td>NaN</td>\n",
       "      <td>Gold L</td>\n",
       "      <td>https://forms.gle/n4TzuyddXQrHYJXF9</td>\n",
       "      <td>NaN</td>\n",
       "    </tr>\n",
       "    <tr>\n",
       "      <th>3</th>\n",
       "      <td>1990</td>\n",
       "      <td>https://pubmed.ncbi.nlm.nih.gov/2200121/</td>\n",
       "      <td>Science</td>\n",
       "      <td>https://doi.org/10.1126/science.2200121</td>\n",
       "      <td>Tuerk, C., &amp; Gold, L. (1990). Systematic evolu...</td>\n",
       "      <td>ssRNA</td>\n",
       "      <td>major variant</td>\n",
       "      <td>T4 DNA polymerase (gp43)</td>\n",
       "      <td>5'GAAUUGUGGUGUUGGCUCCCUAUAGUGAGUCGUAUUAAUAUUCC...</td>\n",
       "      <td>113</td>\n",
       "      <td>...</td>\n",
       "      <td>NaN</td>\n",
       "      <td>Not reported</td>\n",
       "      <td>Detection: \" We have previously shown that the...</td>\n",
       "      <td>Not applicable</td>\n",
       "      <td>DNA library/pool was used as a template to gen...</td>\n",
       "      <td>10000003</td>\n",
       "      <td>NaN</td>\n",
       "      <td>Gold L</td>\n",
       "      <td>https://forms.gle/n4TzuyddXQrHYJXF9</td>\n",
       "      <td>NaN</td>\n",
       "    </tr>\n",
       "    <tr>\n",
       "      <th>4</th>\n",
       "      <td>1992</td>\n",
       "      <td>https://pubmed.ncbi.nlm.nih.gov/1741036/</td>\n",
       "      <td>Nature</td>\n",
       "      <td>https://doi.org/10.1038/355564a0</td>\n",
       "      <td>Bock, L. C., Griffin, L. C., Latham, J. A., Ve...</td>\n",
       "      <td>ssDNA</td>\n",
       "      <td>15 mer (colloquially known as Bock DNA Aptamer)</td>\n",
       "      <td>Thrombin (Sigma), Human</td>\n",
       "      <td>5'GGTTGGTGTGGTTGG3'</td>\n",
       "      <td>15</td>\n",
       "      <td>...</td>\n",
       "      <td>7.4</td>\n",
       "      <td>Not reported</td>\n",
       "      <td>Diagnostic and therapeutic: \"We are at present...</td>\n",
       "      <td>Not applicable</td>\n",
       "      <td>Presumed minimized variant was found</td>\n",
       "      <td>10000004</td>\n",
       "      <td>NaN</td>\n",
       "      <td>Toole JJ</td>\n",
       "      <td>https://forms.gle/n4TzuyddXQrHYJXF9</td>\n",
       "      <td>NaN</td>\n",
       "    </tr>\n",
       "  </tbody>\n",
       "</table>\n",
       "<p>5 rows × 28 columns</p>\n",
       "</div>"
      ],
      "text/plain": [
       "   Year of Paper                      Link to PubMed Entry   Journals  \\\n",
       "0           1990  https://pubmed.ncbi.nlm.nih.gov/1697402/    Nature    \n",
       "1           1990  https://pubmed.ncbi.nlm.nih.gov/1697402/    Nature    \n",
       "2           1990  https://pubmed.ncbi.nlm.nih.gov/2200121/   Science    \n",
       "3           1990  https://pubmed.ncbi.nlm.nih.gov/2200121/   Science    \n",
       "4           1992  https://pubmed.ncbi.nlm.nih.gov/1741036/    Nature    \n",
       "\n",
       "                               Journal DOI  \\\n",
       "0         https://doi.org/10.1038/346818a0   \n",
       "1         https://doi.org/10.1038/346818a0   \n",
       "2  https://doi.org/10.1126/science.2200121   \n",
       "3  https://doi.org/10.1126/science.2200121   \n",
       "4         https://doi.org/10.1038/355564a0   \n",
       "\n",
       "                                            Citation Type of Nucleic Acid  \\\n",
       "0  Ellington, A. D., & Szostak, J. W. (1990). In ...                ssRNA   \n",
       "1  Ellington, A. D., & Szostak, J. W. (1990). In ...                ssRNA   \n",
       "2  Tuerk, C., & Gold, L. (1990). Systematic evolu...                ssRNA   \n",
       "3  Tuerk, C., & Gold, L. (1990). Systematic evolu...                ssRNA   \n",
       "4  Bock, L. C., Griffin, L. C., Latham, J. A., Ve...                ssDNA   \n",
       "\n",
       "                                   Name of Aptamer                   Target   \\\n",
       "0                                            CB-42         Cibacron Blue 3GA   \n",
       "1                                            B4-25           Reactive Blue 4   \n",
       "2                                        wild type  T4 DNA polymerase (gp43)   \n",
       "3                                    major variant  T4 DNA polymerase (gp43)   \n",
       "4  15 mer (colloquially known as Bock DNA Aptamer)   Thrombin (Sigma), Human   \n",
       "\n",
       "                                    Aptamer Sequence  Sequence Length  ...  \\\n",
       "0  5'GGGAGAAUUCCCGCGGCAGAAGCCCACCUGGCUUUGAACUCUAU...              132  ...   \n",
       "1  5'GGGAGAAUUCCCGCGGCGUUGGCCCAGGAUAAUAGGACGAAAUC...              133  ...   \n",
       "2  5'GAAUUGUGGUGUUGGCUCCCUAUAGUGAGUCGUAUUAAUAUUCC...              113  ...   \n",
       "3  5'GAAUUGUGGUGUUGGCUCCCUAUAGUGAGUCGUAUUAAUAUUCC...              113  ...   \n",
       "4                                5'GGTTGGTGTGGTTGG3'               15  ...   \n",
       "\n",
       "    pH Molecular weight of target  \\\n",
       "0  7.6               Not reported   \n",
       "1  7.6               Not reported   \n",
       "2  NaN               Not reported   \n",
       "3  NaN               Not reported   \n",
       "4  7.4               Not reported   \n",
       "\n",
       "       Application as quoted in the referenced paper  \\\n",
       "0  Detection: \" Isolate RNAs that bind to several...   \n",
       "1  Detection: \" Isolate RNAs that bind to several...   \n",
       "2  Detection: \" We have previously shown that the...   \n",
       "3  Detection: \" We have previously shown that the...   \n",
       "4  Diagnostic and therapeutic: \"We are at present...   \n",
       "\n",
       "  Post-selex modifications to the aptamer  \\\n",
       "0                          Not applicable   \n",
       "1                          Not applicable   \n",
       "2                          Not applicable   \n",
       "3                          Not applicable   \n",
       "4                          Not applicable   \n",
       "\n",
       "                          Additional Information\\n\\n Serial Number  \\\n",
       "0  The aptamer was reported in DNA (include thymi...      10000000   \n",
       "1  DNA library/pool was used as a template to gen...      10000001   \n",
       "2  DNA library/pool was used as a template to gen...      10000002   \n",
       "3  DNA library/pool was used as a template to gen...      10000003   \n",
       "4              Presumed minimized variant was found       10000004   \n",
       "\n",
       "  Parent sequence serial number Corresponding Author Name, email address  \\\n",
       "0                           NaN                               Szostak JW   \n",
       "1                           NaN                               Szostak JW   \n",
       "2                           NaN                                   Gold L   \n",
       "3                           NaN                                   Gold L   \n",
       "4                           NaN                                 Toole JJ   \n",
       "\n",
       "   please fill out the form for any feedbacks/comments  \\\n",
       "0                https://forms.gle/n4TzuyddXQrHYJXF9     \n",
       "1                https://forms.gle/n4TzuyddXQrHYJXF9     \n",
       "2                https://forms.gle/n4TzuyddXQrHYJXF9     \n",
       "3                https://forms.gle/n4TzuyddXQrHYJXF9     \n",
       "4                https://forms.gle/n4TzuyddXQrHYJXF9     \n",
       "\n",
       "  Aptagen Cross Referencing(Check  Aptamer Chemistry, Affinity, Length, GC content, sequence)  \n",
       "0                                                NaN                                           \n",
       "1                                                NaN                                           \n",
       "2                                                NaN                                           \n",
       "3                                                NaN                                           \n",
       "4                                                NaN                                           \n",
       "\n",
       "[5 rows x 28 columns]"
      ]
     },
     "execution_count": 21,
     "metadata": {},
     "output_type": "execute_result"
    }
   ],
   "source": [
    "df.head()"
   ]
  },
  {
   "cell_type": "code",
   "execution_count": 22,
   "id": "30dfca0e-6fed-416d-8c18-c53a1ed69e67",
   "metadata": {},
   "outputs": [
    {
     "name": "stdout",
     "output_type": "stream",
     "text": [
      "<class 'pandas.core.frame.DataFrame'>\n",
      "RangeIndex: 1495 entries, 0 to 1494\n",
      "Data columns (total 28 columns):\n",
      " #   Column                                                                                       Non-Null Count  Dtype  \n",
      "---  ------                                                                                       --------------  -----  \n",
      " 0   Year of Paper                                                                                1495 non-null   int64  \n",
      " 1   Link to PubMed Entry                                                                         1495 non-null   object \n",
      " 2   Journals                                                                                     1495 non-null   object \n",
      " 3   Journal DOI                                                                                  1495 non-null   object \n",
      " 4   Citation                                                                                     1495 non-null   object \n",
      " 5   Type of Nucleic Acid                                                                         1495 non-null   object \n",
      " 6   Name of Aptamer                                                                              1495 non-null   object \n",
      " 7   Target                                                                                       1495 non-null   object \n",
      " 8   Aptamer Sequence                                                                             1495 non-null   object \n",
      " 9   Sequence Length                                                                              1495 non-null   int64  \n",
      " 10  GC Content                                                                                   1495 non-null   float64\n",
      " 11  Affinity                                                                                     1495 non-null   object \n",
      " 12  Kd (nM)                                                                                      1113 non-null   object \n",
      " 13  Pool Type                                                                                    1495 non-null   object \n",
      " 14  Pool Random Region                                                                           1484 non-null   object \n",
      " 15  Binding Buffer/Conditions                                                                    1495 non-null   object \n",
      " 16  Divalent Salt                                                                                956 non-null    object \n",
      " 17  Type of the buffer                                                                           1492 non-null   object \n",
      " 18  pH                                                                                           1362 non-null   float64\n",
      " 19  Molecular weight of target                                                                   1495 non-null   object \n",
      " 20  Application as quoted in the referenced paper                                                1495 non-null   object \n",
      " 21  Post-selex modifications to the aptamer                                                      1301 non-null   object \n",
      " 22  Additional Information\n",
      "\n",
      "                                                                     630 non-null    object \n",
      " 23  Serial Number                                                                                1495 non-null   int64  \n",
      " 24  Parent sequence serial number                                                                12 non-null     object \n",
      " 25  Corresponding Author Name, email address                                                     1494 non-null   object \n",
      " 26  please fill out the form for any feedbacks/comments                                          1495 non-null   object \n",
      " 27  Aptagen Cross Referencing(Check  Aptamer Chemistry, Affinity, Length, GC content, sequence)  90 non-null     object \n",
      "dtypes: float64(2), int64(3), object(23)\n",
      "memory usage: 327.2+ KB\n"
     ]
    }
   ],
   "source": [
    "df.info()"
   ]
  },
  {
   "cell_type": "markdown",
   "id": "be948205-af60-42e9-84df-a730caf63991",
   "metadata": {},
   "source": [
    "#### Численные признаки, которые не нужно преобразовывать:\n",
    "- Year of Paper\n",
    "- Sequence Length\n",
    "- GC Content\n",
    "- Serial Number\n",
    "- pH"
   ]
  },
  {
   "cell_type": "markdown",
   "id": "d2f7b50f-94e0-4dcc-8abd-e40404d02cbb",
   "metadata": {},
   "source": [
    "#### Численные признаки, которые нужно преобразовывать:\n",
    "- Affinity\n",
    "- Kd (nM)\n",
    "- Pool Random Region\n",
    "- Molecular weight of target"
   ]
  },
  {
   "cell_type": "markdown",
   "id": "22d4649a-943c-439f-8ddf-80b08f6edff5",
   "metadata": {},
   "source": [
    "**Kd (nM)** и **Pool Random Region** содержат по одной стоке с тектом вместо чисел => удалим их"
   ]
  },
  {
   "cell_type": "code",
   "execution_count": null,
   "id": "bbb4d6e0-b4e1-4bb2-9a98-422dcaab3dda",
   "metadata": {},
   "outputs": [],
   "source": [
    "# Удалим строки 1489 и  1489  \n",
    "df = df.drop(df[df['Link to PubMed Entry'] =='https://patents.google.com/patent/US9636419B2/en'].index)\n",
    "df = df.drop(df[df['Link to PubMed Entry'] =='https://patents.google.com/patent/US20090105172A1/en'].index)"
   ]
  },
  {
   "cell_type": "code",
   "execution_count": 35,
   "id": "f716c9c1-f907-4991-9a19-36c9e045c2aa",
   "metadata": {},
   "outputs": [],
   "source": [
    "# меняем формат Kd (nM)\n",
    "df['Kd (nM)'] = df['Kd (nM)'].astype(float)"
   ]
  },
  {
   "cell_type": "code",
   "execution_count": 36,
   "id": "fea4841f-207e-41bf-9866-f62f4e03d165",
   "metadata": {},
   "outputs": [],
   "source": [
    "# меняем формат Pool Random Region\n",
    "df['Pool Random Region '].astype(float)"
   ]
  },
  {
   "cell_type": "markdown",
   "id": "aa0be200-f433-4c86-a7c8-8f7ef12d7406",
   "metadata": {},
   "source": [
    "**Molecular weight of target** содержит 1247 незаполненных строк из 1485 => удалим весь столбец"
   ]
  },
  {
   "cell_type": "code",
   "execution_count": 56,
   "id": "36777aa2-1f73-4571-a790-3dc31f8eec2b",
   "metadata": {},
   "outputs": [
    {
     "data": {
      "text/plain": [
       "Molecular weight of target\n",
       "Not reported     1210\n",
       "Not reported       37\n",
       "26-28 kDa          17\n",
       "25 kDa             16\n",
       "94 kDa             11\n",
       "                 ... \n",
       "20051.8 G/mol       1\n",
       "19967.6 G/mol       1\n",
       "82 kDa              1\n",
       "18.7 Kda            1\n",
       "64 kDa              1\n",
       "Name: count, Length: 89, dtype: int64"
      ]
     },
     "execution_count": 56,
     "metadata": {},
     "output_type": "execute_result"
    }
   ],
   "source": [
    "df['Molecular weight of target'].value_counts() # Не нужно преобразовывать"
   ]
  },
  {
   "cell_type": "code",
   "execution_count": null,
   "id": "ca956c4d-2176-464e-b826-43207cea3c70",
   "metadata": {},
   "outputs": [],
   "source": [
    "df = df.drop(['Molecular weight of target'], axis = 1)"
   ]
  },
  {
   "cell_type": "markdown",
   "id": "4b353307-7fc4-44e1-8288-db3a308cb3a5",
   "metadata": {},
   "source": [
    "**Affinity** "
   ]
  },
  {
   "cell_type": "code",
   "execution_count": 58,
   "id": "c742039f-b883-4210-8e41-e038e676cb0a",
   "metadata": {},
   "outputs": [
    {
     "data": {
      "text/plain": [
       "Affinity\n",
       "Not reported                                                                                                                                                    265\n",
       "Kd: 19-36 nM                                                                                                                                                     13\n",
       "Not reported                                                                                                                                                     13\n",
       "Kd: 228.4 nM and 7485.3 nM *this Kd was determined with affinity test on entire n round pool                                                                     11\n",
       "Kd: 10 nM                                                                                                                                                         9\n",
       "                                                                                                                                                               ... \n",
       "Kd: 2.1 ± 0.2 nM                                                                                                                                                  1\n",
       "Kd: 2.4 ± 0.4 nM                                                                                                                                                  1\n",
       "Kd: 4.1 ± 0.6 nM                                                                                                                                                  1\n",
       "Kd: 10.8 ± 1.5 nM                                                                                                                                                 1\n",
       "Kd: \"ΔPSap4#5 showed the highest PSA-binding ability and it was 48-fold higher than that of the parent oligonucleotide\", (parent's Kd: \"several tens of nM\")      1\n",
       "Name: count, Length: 1093, dtype: int64"
      ]
     },
     "execution_count": 58,
     "metadata": {},
     "output_type": "execute_result"
    }
   ],
   "source": [
    "df['Affinity'].value_counts()"
   ]
  },
  {
   "cell_type": "markdown",
   "id": "fadffa05-1c04-463b-9c99-862c1eca3291",
   "metadata": {},
   "source": [
    "##### Мы видим, что форматы данных сильно варьируются. Используем функцию с регулярными выражениями, чтобы преобразовать данные в один вид"
   ]
  },
  {
   "cell_type": "code",
   "execution_count": 80,
   "id": "3282ee4f-a940-417f-989c-9abcbd377fcb",
   "metadata": {},
   "outputs": [],
   "source": [
    "def extract_numerical_value(text):\n",
    "    pattern = r'(\\d+\\.\\d+|\\d+)'  # Шаблон регулярного выражения для сопоставления чисел с плавающей точкой или целых чисел\n",
    "\n",
    "    # Check if the text contains a range of values\n",
    "    range_match = re.match(r'Kd: (\\d+\\.\\d+|\\d+)-(\\d+\\.\\d+|\\d+) nM', text)\n",
    "    if range_match:  # Если есть диапазон, посчитаем среднее значение\n",
    "        start_value = float(range_match.group(1))\n",
    "        end_value = float(range_match.group(2))\n",
    "        return (start_value + end_value) / 2\n",
    "    else:  # Если это одно значение, используем регулярное выражение\n",
    "        match = re.search(pattern, text)\n",
    "        if match:\n",
    "            return float(match.group(0))\n",
    "    return None  # Вернуть None если нет чисел\n",
    "\n",
    "# Применим функцию к столбцу\n",
    "df['Affinity'] = df['Affinity'].apply(extract_numerical_value)"
   ]
  },
  {
   "cell_type": "code",
   "execution_count": null,
   "id": "0e5e83e3-955f-4b06-88f0-ca19fb588620",
   "metadata": {},
   "outputs": [],
   "source": []
  },
  {
   "cell_type": "markdown",
   "id": "661a1e92-f56c-45e5-98bc-533c46f47a58",
   "metadata": {},
   "source": [
    "## 2"
   ]
  },
  {
   "cell_type": "markdown",
   "id": "3c98884e-161d-4b02-a180-762921be7599",
   "metadata": {},
   "source": [
    "Рассмотрим категориальные признаки, которые кажутся важными для предсказания целевой переменной"
   ]
  },
  {
   "cell_type": "markdown",
   "id": "fff63065-4fdb-453d-9a79-84c1e74d5086",
   "metadata": {},
   "source": [
    "**Type of the buffer** содержит несколько видов строковых значений, для работы с такой задачей, можно использовать метод `map`"
   ]
  },
  {
   "cell_type": "code",
   "execution_count": 83,
   "id": "c314fb0a-95b9-4cb2-a457-963286709042",
   "metadata": {},
   "outputs": [
    {
     "data": {
      "text/plain": [
       "Type of the buffer\n",
       "Tris Buffers             637\n",
       "PBS/phosphate buffers    496\n",
       "Other Buffers            298\n",
       "Not Reported              59\n",
       "Name: count, dtype: int64"
      ]
     },
     "execution_count": 83,
     "metadata": {},
     "output_type": "execute_result"
    }
   ],
   "source": [
    "df['Type of the buffer'].value_counts()"
   ]
  },
  {
   "cell_type": "code",
   "execution_count": null,
   "id": "86788018-d9d9-4d7f-acd6-1dae6877bf18",
   "metadata": {},
   "outputs": [],
   "source": [
    "d = {'Tris Buffers' : 1, 'PBS/phosphate buffers' : 2, 'Other Buffers' : 3, 'Not Reported' : 0}\n",
    "df['Type of the buffer'] = df['Type of the buffer'].map(d)"
   ]
  },
  {
   "cell_type": "markdown",
   "id": "3796a78b-d0fe-4f1a-9ee5-369d7b0ad05a",
   "metadata": {},
   "source": [
    "Аналогично с **Divalent Salt**"
   ]
  },
  {
   "cell_type": "code",
   "execution_count": 84,
   "id": "f33e49af-7ca5-4d4a-abfc-dc65a3159d91",
   "metadata": {},
   "outputs": [
    {
     "data": {
      "text/plain": [
       "Divalent Salt \n",
       "MgCl         669\n",
       "MgCl/CaCl    232\n",
       "CaCl          48\n",
       "MgCl           5\n",
       "Name: count, dtype: int64"
      ]
     },
     "execution_count": 84,
     "metadata": {},
     "output_type": "execute_result"
    }
   ],
   "source": [
    "df['Divalent Salt '].value_counts()"
   ]
  },
  {
   "cell_type": "code",
   "execution_count": null,
   "id": "f2727b37-f88f-426b-85e5-5d472d95ce62",
   "metadata": {},
   "outputs": [],
   "source": [
    "d = {'MgCl' : 1, 'MgCl/CaCl' : 2, 'CaCl' : 3, 'MgCl' : 4}\n",
    "df['Type of the buffer'] = df['Type of the buffer'].map(d)"
   ]
  },
  {
   "cell_type": "markdown",
   "id": "40894793-457a-4b1a-bcce-f0932631f534",
   "metadata": {},
   "source": [
    "Аналогично с **Type of Nucleic Acid**"
   ]
  },
  {
   "cell_type": "code",
   "execution_count": 89,
   "id": "e5cacab5-b780-4dd3-bc3f-e711024f8741",
   "metadata": {},
   "outputs": [
    {
     "data": {
      "text/plain": [
       "Type of Nucleic Acid\n",
       "ssDNA                    896\n",
       "ssRNA                    438\n",
       "2'-fluoro-RNA            107\n",
       "2'-amino-RNA              23\n",
       "5-uracil-modified-DNA      7\n",
       "2'-O-Me-RNA                6\n",
       "2',4'-BNA/LNA-DNA          5\n",
       "2'-fluoro/O-Me-RNA         3\n",
       "FANA XNA                   3\n",
       "4'-thio-RNA                2\n",
       "2'-fluoro/amino-RNA        1\n",
       "5-uracil-modified-RNA      1\n",
       "dsDNA                      1\n",
       "Name: count, dtype: int64"
      ]
     },
     "execution_count": 89,
     "metadata": {},
     "output_type": "execute_result"
    }
   ],
   "source": [
    "df['Type of Nucleic Acid'].value_counts()"
   ]
  },
  {
   "cell_type": "code",
   "execution_count": null,
   "id": "f84901e4-da8c-41a6-9478-d0e23a139d58",
   "metadata": {},
   "outputs": [],
   "source": [
    "d = {'ssDNA' : 1, 'ssRNA' : 2, '2\\'-fluoro-RNA' : 3, '2\\'-amino-RNA' : 4, '5-uracil-modified-DNA' : 5,'2\\'-O-Me-RNA' : 6, '2\\',4\\'-BNA/LNA-DNA' : 7, \n",
    "    '2\\'-fluoro/O-Me-RNA' : 8, 'FANA XNA' : 9, '4\\'-thio-RNA' : 11, '2\\'-fluoro/amino-RNA' : 12, '5-uracil-modified-RNA' : 13, 'dsDNA' : 14}\n",
    "df['Type of the buffer'] = df['Type of the buffer'].map(d)"
   ]
  },
  {
   "cell_type": "code",
   "execution_count": null,
   "id": "b2e64f9e-a261-4b19-9b6e-65b8c91adfaa",
   "metadata": {},
   "outputs": [],
   "source": []
  },
  {
   "cell_type": "code",
   "execution_count": 94,
   "id": "23fc05bd-76f6-4d05-9e68-e33e3c8b4588",
   "metadata": {},
   "outputs": [
    {
     "data": {
      "text/plain": [
       "1348"
      ]
     },
     "execution_count": 94,
     "metadata": {},
     "output_type": "execute_result"
    }
   ],
   "source": [
    "unique_aptamer = df['Name of Aptamer'].unique()\n",
    "len(unique_aptamer)"
   ]
  },
  {
   "cell_type": "code",
   "execution_count": 95,
   "id": "8617a39a-091e-4ab5-b9df-a19588607d98",
   "metadata": {},
   "outputs": [
    {
     "data": {
      "text/plain": [
       "Name of Aptamer\n",
       "C2                          6\n",
       "Apt1                        5\n",
       "C1                          5\n",
       "Aptamer 1                   4\n",
       "#3                          4\n",
       "                           ..\n",
       "4.4.6                       1\n",
       "4.4.5                       1\n",
       "4.4.4                       1\n",
       "4.4.3                       1\n",
       "GS24 (truncated version)    1\n",
       "Name: count, Length: 1348, dtype: int64"
      ]
     },
     "execution_count": 95,
     "metadata": {},
     "output_type": "execute_result"
    }
   ],
   "source": [
    "df['Name of Aptamer'].value_counts()"
   ]
  },
  {
   "cell_type": "markdown",
   "id": "2920037c-8db7-4326-85f6-84f682cad2f6",
   "metadata": {},
   "source": [
    "**Name of Aptamer** содержит важную информацию, необходимую для расчета `Kd`\n",
    "Преобразуем данные в дамми-переменную"
   ]
  },
  {
   "cell_type": "code",
   "execution_count": null,
   "id": "116a3171-3227-4efc-a2f9-d1fce6586551",
   "metadata": {},
   "outputs": [],
   "source": [
    "# Создаем переменные\n",
    "dummy_variables = pd.get_dummies(df['Name of Aptamer'])\n",
    "df = pd.concat([df, dummy_variables], axis=1)"
   ]
  }
 ],
 "metadata": {
  "kernelspec": {
   "display_name": "Python 3 (ipykernel)",
   "language": "python",
   "name": "python3"
  },
  "language_info": {
   "codemirror_mode": {
    "name": "ipython",
    "version": 3
   },
   "file_extension": ".py",
   "mimetype": "text/x-python",
   "name": "python",
   "nbconvert_exporter": "python",
   "pygments_lexer": "ipython3",
   "version": "3.11.7"
  }
 },
 "nbformat": 4,
 "nbformat_minor": 5
}
