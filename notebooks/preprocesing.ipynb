{
 "cells": [
  {
   "metadata": {},
   "cell_type": "markdown",
   "source": "# ManuL",
   "id": "728176d15f5e09d1"
  },
  {
   "metadata": {},
   "cell_type": "markdown",
   "source": "### Data preprocessing",
   "id": "c167f4a2d969944e"
  },
  {
   "metadata": {},
   "cell_type": "markdown",
   "source": "Загрузка необходимых библиотек",
   "id": "528b8010a4e906ea"
  },
  {
   "cell_type": "code",
   "id": "initial_id",
   "metadata": {
    "collapsed": true,
    "ExecuteTime": {
     "end_time": "2024-07-12T22:10:17.872185Z",
     "start_time": "2024-07-12T22:10:17.869327Z"
    }
   },
   "source": [
    "import os.path\n",
    "\n",
    "import pandas as pd\n",
    "import numpy as np\n",
    "import re\n",
    "import urllib.parse\n",
    "import requests\n",
    "import tqdm\n",
    "import pickle"
   ],
   "outputs": [],
   "execution_count": 26
  },
  {
   "metadata": {},
   "cell_type": "markdown",
   "source": "Загрузка данных",
   "id": "292de62874b8ce9a"
  },
  {
   "metadata": {
    "ExecuteTime": {
     "end_time": "2024-07-12T21:42:44.672589Z",
     "start_time": "2024-07-12T21:42:44.087478Z"
    }
   },
   "cell_type": "code",
   "source": "df = pd.read_excel('../data/raw/UTexas Aptamer Database.xlsx')",
   "id": "5601b096b9035879",
   "outputs": [],
   "execution_count": 4
  },
  {
   "metadata": {},
   "cell_type": "markdown",
   "source": "Преобразуем колонки к snake_case",
   "id": "2c79cbaf97ce60ad"
  },
  {
   "metadata": {
    "ExecuteTime": {
     "end_time": "2024-07-12T21:42:44.677665Z",
     "start_time": "2024-07-12T21:42:44.673943Z"
    }
   },
   "cell_type": "code",
   "source": [
    "def to_snake_case(name):\n",
    "    name = re.sub(r'[^\\w\\s]', ' ', name)\n",
    "    name = re.sub(r'\\s+', ' ', name)\n",
    "    words = name.split()\n",
    "    return '_'.join(word.lower() for word in words)\n",
    "\n",
    "df.columns = [to_snake_case(col) for col in df.columns]"
   ],
   "id": "72d5f0b8c67c65a2",
   "outputs": [],
   "execution_count": 5
  },
  {
   "metadata": {},
   "cell_type": "markdown",
   "source": "Просмотрим информацию о датасете",
   "id": "ffaf9b2cab32573d"
  },
  {
   "metadata": {
    "ExecuteTime": {
     "end_time": "2024-07-12T21:42:44.693106Z",
     "start_time": "2024-07-12T21:42:44.678739Z"
    }
   },
   "cell_type": "code",
   "source": "df.info()",
   "id": "8d24282c9dd455b0",
   "outputs": [
    {
     "name": "stdout",
     "output_type": "stream",
     "text": [
      "<class 'pandas.core.frame.DataFrame'>\n",
      "RangeIndex: 1495 entries, 0 to 1494\n",
      "Data columns (total 28 columns):\n",
      " #   Column                                                                                 Non-Null Count  Dtype  \n",
      "---  ------                                                                                 --------------  -----  \n",
      " 0   year_of_paper                                                                          1495 non-null   int64  \n",
      " 1   link_to_pubmed_entry                                                                   1495 non-null   object \n",
      " 2   journals                                                                               1495 non-null   object \n",
      " 3   journal_doi                                                                            1495 non-null   object \n",
      " 4   citation                                                                               1495 non-null   object \n",
      " 5   type_of_nucleic_acid                                                                   1495 non-null   object \n",
      " 6   name_of_aptamer                                                                        1495 non-null   object \n",
      " 7   target                                                                                 1495 non-null   object \n",
      " 8   aptamer_sequence                                                                       1495 non-null   object \n",
      " 9   sequence_length                                                                        1495 non-null   int64  \n",
      " 10  gc_content                                                                             1495 non-null   float64\n",
      " 11  affinity                                                                               1495 non-null   object \n",
      " 12  kd_nm                                                                                  1113 non-null   object \n",
      " 13  pool_type                                                                              1495 non-null   object \n",
      " 14  pool_random_region                                                                     1484 non-null   object \n",
      " 15  binding_buffer_conditions                                                              1495 non-null   object \n",
      " 16  divalent_salt                                                                          956 non-null    object \n",
      " 17  type_of_the_buffer                                                                     1492 non-null   object \n",
      " 18  ph                                                                                     1362 non-null   float64\n",
      " 19  molecular_weight_of_target                                                             1495 non-null   object \n",
      " 20  application_as_quoted_in_the_referenced_paper                                          1495 non-null   object \n",
      " 21  post_selex_modifications_to_the_aptamer                                                1301 non-null   object \n",
      " 22  additional_information                                                                 630 non-null    object \n",
      " 23  serial_number                                                                          1495 non-null   int64  \n",
      " 24  parent_sequence_serial_number                                                          12 non-null     object \n",
      " 25  corresponding_author_name_email_address                                                1494 non-null   object \n",
      " 26  please_fill_out_the_form_for_any_feedbacks_comments                                    1495 non-null   object \n",
      " 27  aptagen_cross_referencing_check_aptamer_chemistry_affinity_length_gc_content_sequence  90 non-null     object \n",
      "dtypes: float64(2), int64(3), object(23)\n",
      "memory usage: 327.2+ KB\n"
     ]
    }
   ],
   "execution_count": 6
  },
  {
   "metadata": {},
   "cell_type": "markdown",
   "source": "Выведем 10 случайных строк",
   "id": "4a8c9b6f282beb7"
  },
  {
   "metadata": {
    "ExecuteTime": {
     "end_time": "2024-07-12T21:42:44.710598Z",
     "start_time": "2024-07-12T21:42:44.694620Z"
    }
   },
   "cell_type": "code",
   "source": "df.sample(10)",
   "id": "9b260d5624d14766",
   "outputs": [
    {
     "data": {
      "text/plain": [
       "      year_of_paper                       link_to_pubmed_entry  \\\n",
       "922            2012  https://pubmed.ncbi.nlm.nih.gov/22222912/   \n",
       "1344           2019  https://pubmed.ncbi.nlm.nih.gov/30368278/   \n",
       "19             1993   https://pubmed.ncbi.nlm.nih.gov/7505429/   \n",
       "1006           2013  https://pubmed.ncbi.nlm.nih.gov/23968853/   \n",
       "1445           2022  https://pubmed.ncbi.nlm.nih.gov/34383183/   \n",
       "1276           2018  https://pubmed.ncbi.nlm.nih.gov/30613143/   \n",
       "519            2004  https://pubmed.ncbi.nlm.nih.gov/15629041/   \n",
       "282            1999  https://pubmed.ncbi.nlm.nih.gov/10322029/   \n",
       "472            2004  https://pubmed.ncbi.nlm.nih.gov/14980623/   \n",
       "1405           2021  https://pubmed.ncbi.nlm.nih.gov/33296598/   \n",
       "\n",
       "                                  journals  \\\n",
       "922                     Anal Bioanal Chem    \n",
       "1344                              Talanta    \n",
       "19                      Nucleic Acids Res    \n",
       "1006                         Biomaterials    \n",
       "1445                     Invest New Drugs    \n",
       "1276                   Int J Nanomedicine    \n",
       "519    Genomics Proteomics Bioinformatics    \n",
       "282                           J Bacteriol    \n",
       "472                       Bioorg Med Chem    \n",
       "1405                            Anal Chem    \n",
       "\n",
       "                                            journal_doi  \\\n",
       "922           https://doi.org/10.1007/s00216-011-5662-3   \n",
       "1344      https://doi.org/10.1016/j.talanta.2018.09.063   \n",
       "19               https://doi.org/10.1093/nar/21.23.5509   \n",
       "1006  https://doi.org/10.1016/j.biomaterials.2013.07...   \n",
       "1445         https://doi.org/10.1007/s10637-021-01161-y   \n",
       "1276                https://doi.org/10.2147/IJN.S188003   \n",
       "519       https://doi.org/10.1016/s1672-0229(04)02005-4   \n",
       "282    https://doi.org/10.1128/jb.181.10.3246-3255.1999   \n",
       "472           https://doi.org/10.1016/j.bmc.2003.12.009   \n",
       "1405       https://doi.org/10.1021/acs.analchem.0c03822   \n",
       "\n",
       "                                               citation type_of_nucleic_acid  \\\n",
       "922   Song KM, Jeong E, Jeon W, Cho M, Ban C. Aptase...                ssDNA   \n",
       "1344  Yu, F., Li, H., Sun, W., Zhao, Y., Xu, D., & H...                ssDNA   \n",
       "19    Giver, L., Bartel, D., Zapp, M., Pawul, A., Gr...                ssRNA   \n",
       "1006  Parekh, P., Kamble, S., Zhao, N., Zeng, Z., Po...                ssDNA   \n",
       "1445  Tsogtbaatar, K., Sousa, D. A., Ferreira, D., T...                ssDNA   \n",
       "1276  Chen, L., He, W., Jiang, H., Wu, L., Xiong, W....                ssDNA   \n",
       "519   Yan, X., Gao, X., & Zhang, Z. (2004). Isolatio...         2'-amino-RNA   \n",
       "282   Goodman, S. D., Velten, N. J., Gao, Q., Robins...                ssDNA   \n",
       "472   Masud, M. M., Kuwahara, M., Ozaki, H., & Sawai...                ssDNA   \n",
       "1405  Kang, J., Jang, H., Yeom, G., & Kim, M. G. (20...                ssDNA   \n",
       "\n",
       "     name_of_aptamer                                             target  \\\n",
       "922            AMP18                                         Ampicillin   \n",
       "1344           Ylac8                                        Lactoferrin   \n",
       "19                18  Rev protein of HIV-1 (minimal Rev-binding elem...   \n",
       "1006            C2NP                                               CD30   \n",
       "1445  OS-7.9 aptamer                Osteosarcoma MG-63 cell line, Human   \n",
       "1276      PB aptamer               Prostate cancer bone metastasis (PB)   \n",
       "519          T3.11.7         Tumor necrosis factor alpha (hTNFα), Human   \n",
       "282              QH'                      Integration host factor (IHF)   \n",
       "472            SL-16                                      Sialyllactose   \n",
       "1405        p24_apt1  Human immunodifficiency virus type 1 (HIV-1) p...   \n",
       "\n",
       "                                       aptamer_sequence  sequence_length  ...  \\\n",
       "922                             5'TTTAGTTGGGGTTCAGTTG3'               19  ...   \n",
       "1344  5'GCAGGACACCGTAACACGGGCTTTTGCTTTATCGTACCCTTTAT...               59  ...   \n",
       "19           5'GCUCUUGGGCGCAGCCUCAAUGAGGCUGGAGGUACAAG3'               38  ...   \n",
       "1006                 5'ACTGGGCGAAACAAGTCTATTGACTATGGC3'               30  ...   \n",
       "1445  5'ATCCAGAGTGACGCAGCAGGGCACATTGTTCACACACAGATCAC...               85  ...   \n",
       "1276  5'CGCTCGATCGATCTAGATTCGCTCTATTGATGCCTGCGTGCGTG...               72  ...   \n",
       "519   5′GGGAGGACGAUGUUAGGAGUAUCUGAUGACAAUUCGGAGCUCCA...               59  ...   \n",
       "282   5′GCCTGCTTTTTTATACTAAGTTGGCAATTATAAAAAAGCATTGC...               75  ...   \n",
       "472   5′GTACGAATTCACGAGGTTGCCCCGGGCCGCCCCCCTGTACGAAT...               78  ...   \n",
       "1405  5'AGATACTGCCATTCATTGCATCCACATCGGAGAACAGGCGCACT...               85  ...   \n",
       "\n",
       "       ph molecular_weight_of_target  \\\n",
       "922   8.0               Not reported   \n",
       "1344  7.4               Not reported   \n",
       "19    8.0               Not reported   \n",
       "1006  7.4               Not reported   \n",
       "1445  7.4              Not reported    \n",
       "1276  NaN               Not reported   \n",
       "519   7.4               Not reported   \n",
       "282   7.8               Not reported   \n",
       "472   7.6               Not reported   \n",
       "1405  7.4               Not reported   \n",
       "\n",
       "          application_as_quoted_in_the_referenced_paper  \\\n",
       "922   Detection: \" A gold nanoparticle based dual fl...   \n",
       "1344  Detection: \" We report a novel method for effi...   \n",
       "19    Therapeutic: \" A population of improved Rev-bi...   \n",
       "1006  Diagnostic and Therapeutic: \" CD30 is highly e...   \n",
       "1445  Diagnostic and Therapeutic: \" OS-7.9 could rec...   \n",
       "1276  Drug Delivery and Therapeutic: \" PB is one of ...   \n",
       "519   Therapeutic and Diagnostic: \"Human tumor necro...   \n",
       "282   Research: \" Integration host factor (IHF) is a...   \n",
       "472   Therapeutic: \" To our knowledge, this is the f...   \n",
       "1405  Detection and Diagnostic: \" The results demons...   \n",
       "\n",
       "                post_selex_modifications_to_the_aptamer  \\\n",
       "922   Truncated: The ssDNA was shortened based on th...   \n",
       "1344                                     Not applicable   \n",
       "19                                       Not applicable   \n",
       "1006                    Truncated version of c2 aptamer   \n",
       "1445                                                NaN   \n",
       "1276                                     Not applicable   \n",
       "519   11 nucleotides of 5′- and 1 nucleotide from 3′...   \n",
       "282                                                 NaN   \n",
       "472                                      Not applicable   \n",
       "1405                                     Not applicable   \n",
       "\n",
       "                                 additional_information serial_number  \\\n",
       "922   Fam conjugated to 5' end of aptamer. The paper...      10000885   \n",
       "1344                                                NaN      10001302   \n",
       "19    *Activity values are described as \"representin...      10000019   \n",
       "1006                                                NaN      10000965   \n",
       "1445                                                NaN      10001398   \n",
       "1276                                                NaN      10001234   \n",
       "519   Modfied pool of 2'-NH2-RNA --> .2'-NH2 ,-modif...      10000495   \n",
       "282                                                 NaN      10000263   \n",
       "472                                                 NaN      10000448   \n",
       "1405  *pool not reported, determined from sequence r...      10001361   \n",
       "\n",
       "     parent_sequence_serial_number  \\\n",
       "922                            NaN   \n",
       "1344                           NaN   \n",
       "19                             NaN   \n",
       "1006                           NaN   \n",
       "1445                           NaN   \n",
       "1276                           NaN   \n",
       "519                            NaN   \n",
       "282                            NaN   \n",
       "472                            NaN   \n",
       "1405                           NaN   \n",
       "\n",
       "                corresponding_author_name_email_address  \\\n",
       "922                          Ban C, ciban@postech.ac.kr   \n",
       "1344  Li H, lihui@nju.edu.cn; Xu D, xudanke@nju.edu....   \n",
       "19                                         Ellington AD   \n",
       "1006                                Zu, Y, yzu@tmhs.org   \n",
       "1445            Rodrigues, L; Email: lrmr@deb.uminho.pt   \n",
       "1276                        Qian, Y., qianyu@wibe.ac.cn   \n",
       "519               Zhang, Z., zhangzq@public3.bta.net.cn   \n",
       "282                    Goodman SD, sgoodman@hsc.usc.edu   \n",
       "472                  Sawai, H, sawai@chem.gunma-u.ac.jp   \n",
       "1405                            Kim MG, mkim@gist.ac.kr   \n",
       "\n",
       "      please_fill_out_the_form_for_any_feedbacks_comments  \\\n",
       "922                 https://forms.gle/n4TzuyddXQrHYJXF9     \n",
       "1344                https://forms.gle/n4TzuyddXQrHYJXF9     \n",
       "19                  https://forms.gle/n4TzuyddXQrHYJXF9     \n",
       "1006                https://forms.gle/n4TzuyddXQrHYJXF9     \n",
       "1445                https://forms.gle/n4TzuyddXQrHYJXF9     \n",
       "1276                https://forms.gle/n4TzuyddXQrHYJXF9     \n",
       "519                 https://forms.gle/n4TzuyddXQrHYJXF9     \n",
       "282                 https://forms.gle/n4TzuyddXQrHYJXF9     \n",
       "472                 https://forms.gle/n4TzuyddXQrHYJXF9     \n",
       "1405                https://forms.gle/n4TzuyddXQrHYJXF9     \n",
       "\n",
       "     aptagen_cross_referencing_check_aptamer_chemistry_affinity_length_gc_content_sequence  \n",
       "922   5'dTpdTpdTpdApdGpdTpdTpdGpdGpdGpdGpdTpdTpdCpdA...                                     \n",
       "1344                                                NaN                                     \n",
       "19                                                  NaN                                     \n",
       "1006                                                NaN                                     \n",
       "1445  5'dApdTpdCpdCpdApdGpdApdGpdTpdGpdApdCpdGpdCpdA...                                     \n",
       "1276                                                NaN                                     \n",
       "519                                                 NaN                                     \n",
       "282                                                 NaN                                     \n",
       "472                                                 NaN                                     \n",
       "1405                                                NaN                                     \n",
       "\n",
       "[10 rows x 28 columns]"
      ],
      "text/html": [
       "<div>\n",
       "<style scoped>\n",
       "    .dataframe tbody tr th:only-of-type {\n",
       "        vertical-align: middle;\n",
       "    }\n",
       "\n",
       "    .dataframe tbody tr th {\n",
       "        vertical-align: top;\n",
       "    }\n",
       "\n",
       "    .dataframe thead th {\n",
       "        text-align: right;\n",
       "    }\n",
       "</style>\n",
       "<table border=\"1\" class=\"dataframe\">\n",
       "  <thead>\n",
       "    <tr style=\"text-align: right;\">\n",
       "      <th></th>\n",
       "      <th>year_of_paper</th>\n",
       "      <th>link_to_pubmed_entry</th>\n",
       "      <th>journals</th>\n",
       "      <th>journal_doi</th>\n",
       "      <th>citation</th>\n",
       "      <th>type_of_nucleic_acid</th>\n",
       "      <th>name_of_aptamer</th>\n",
       "      <th>target</th>\n",
       "      <th>aptamer_sequence</th>\n",
       "      <th>sequence_length</th>\n",
       "      <th>...</th>\n",
       "      <th>ph</th>\n",
       "      <th>molecular_weight_of_target</th>\n",
       "      <th>application_as_quoted_in_the_referenced_paper</th>\n",
       "      <th>post_selex_modifications_to_the_aptamer</th>\n",
       "      <th>additional_information</th>\n",
       "      <th>serial_number</th>\n",
       "      <th>parent_sequence_serial_number</th>\n",
       "      <th>corresponding_author_name_email_address</th>\n",
       "      <th>please_fill_out_the_form_for_any_feedbacks_comments</th>\n",
       "      <th>aptagen_cross_referencing_check_aptamer_chemistry_affinity_length_gc_content_sequence</th>\n",
       "    </tr>\n",
       "  </thead>\n",
       "  <tbody>\n",
       "    <tr>\n",
       "      <th>922</th>\n",
       "      <td>2012</td>\n",
       "      <td>https://pubmed.ncbi.nlm.nih.gov/22222912/</td>\n",
       "      <td>Anal Bioanal Chem</td>\n",
       "      <td>https://doi.org/10.1007/s00216-011-5662-3</td>\n",
       "      <td>Song KM, Jeong E, Jeon W, Cho M, Ban C. Aptase...</td>\n",
       "      <td>ssDNA</td>\n",
       "      <td>AMP18</td>\n",
       "      <td>Ampicillin</td>\n",
       "      <td>5'TTTAGTTGGGGTTCAGTTG3'</td>\n",
       "      <td>19</td>\n",
       "      <td>...</td>\n",
       "      <td>8.0</td>\n",
       "      <td>Not reported</td>\n",
       "      <td>Detection: \" A gold nanoparticle based dual fl...</td>\n",
       "      <td>Truncated: The ssDNA was shortened based on th...</td>\n",
       "      <td>Fam conjugated to 5' end of aptamer. The paper...</td>\n",
       "      <td>10000885</td>\n",
       "      <td>NaN</td>\n",
       "      <td>Ban C, ciban@postech.ac.kr</td>\n",
       "      <td>https://forms.gle/n4TzuyddXQrHYJXF9</td>\n",
       "      <td>5'dTpdTpdTpdApdGpdTpdTpdGpdGpdGpdGpdTpdTpdCpdA...</td>\n",
       "    </tr>\n",
       "    <tr>\n",
       "      <th>1344</th>\n",
       "      <td>2019</td>\n",
       "      <td>https://pubmed.ncbi.nlm.nih.gov/30368278/</td>\n",
       "      <td>Talanta</td>\n",
       "      <td>https://doi.org/10.1016/j.talanta.2018.09.063</td>\n",
       "      <td>Yu, F., Li, H., Sun, W., Zhao, Y., Xu, D., &amp; H...</td>\n",
       "      <td>ssDNA</td>\n",
       "      <td>Ylac8</td>\n",
       "      <td>Lactoferrin</td>\n",
       "      <td>5'GCAGGACACCGTAACACGGGCTTTTGCTTTATCGTACCCTTTAT...</td>\n",
       "      <td>59</td>\n",
       "      <td>...</td>\n",
       "      <td>7.4</td>\n",
       "      <td>Not reported</td>\n",
       "      <td>Detection: \" We report a novel method for effi...</td>\n",
       "      <td>Not applicable</td>\n",
       "      <td>NaN</td>\n",
       "      <td>10001302</td>\n",
       "      <td>NaN</td>\n",
       "      <td>Li H, lihui@nju.edu.cn; Xu D, xudanke@nju.edu....</td>\n",
       "      <td>https://forms.gle/n4TzuyddXQrHYJXF9</td>\n",
       "      <td>NaN</td>\n",
       "    </tr>\n",
       "    <tr>\n",
       "      <th>19</th>\n",
       "      <td>1993</td>\n",
       "      <td>https://pubmed.ncbi.nlm.nih.gov/7505429/</td>\n",
       "      <td>Nucleic Acids Res</td>\n",
       "      <td>https://doi.org/10.1093/nar/21.23.5509</td>\n",
       "      <td>Giver, L., Bartel, D., Zapp, M., Pawul, A., Gr...</td>\n",
       "      <td>ssRNA</td>\n",
       "      <td>18</td>\n",
       "      <td>Rev protein of HIV-1 (minimal Rev-binding elem...</td>\n",
       "      <td>5'GCUCUUGGGCGCAGCCUCAAUGAGGCUGGAGGUACAAG3'</td>\n",
       "      <td>38</td>\n",
       "      <td>...</td>\n",
       "      <td>8.0</td>\n",
       "      <td>Not reported</td>\n",
       "      <td>Therapeutic: \" A population of improved Rev-bi...</td>\n",
       "      <td>Not applicable</td>\n",
       "      <td>*Activity values are described as \"representin...</td>\n",
       "      <td>10000019</td>\n",
       "      <td>NaN</td>\n",
       "      <td>Ellington AD</td>\n",
       "      <td>https://forms.gle/n4TzuyddXQrHYJXF9</td>\n",
       "      <td>NaN</td>\n",
       "    </tr>\n",
       "    <tr>\n",
       "      <th>1006</th>\n",
       "      <td>2013</td>\n",
       "      <td>https://pubmed.ncbi.nlm.nih.gov/23968853/</td>\n",
       "      <td>Biomaterials</td>\n",
       "      <td>https://doi.org/10.1016/j.biomaterials.2013.07...</td>\n",
       "      <td>Parekh, P., Kamble, S., Zhao, N., Zeng, Z., Po...</td>\n",
       "      <td>ssDNA</td>\n",
       "      <td>C2NP</td>\n",
       "      <td>CD30</td>\n",
       "      <td>5'ACTGGGCGAAACAAGTCTATTGACTATGGC3'</td>\n",
       "      <td>30</td>\n",
       "      <td>...</td>\n",
       "      <td>7.4</td>\n",
       "      <td>Not reported</td>\n",
       "      <td>Diagnostic and Therapeutic: \" CD30 is highly e...</td>\n",
       "      <td>Truncated version of c2 aptamer</td>\n",
       "      <td>NaN</td>\n",
       "      <td>10000965</td>\n",
       "      <td>NaN</td>\n",
       "      <td>Zu, Y, yzu@tmhs.org</td>\n",
       "      <td>https://forms.gle/n4TzuyddXQrHYJXF9</td>\n",
       "      <td>NaN</td>\n",
       "    </tr>\n",
       "    <tr>\n",
       "      <th>1445</th>\n",
       "      <td>2022</td>\n",
       "      <td>https://pubmed.ncbi.nlm.nih.gov/34383183/</td>\n",
       "      <td>Invest New Drugs</td>\n",
       "      <td>https://doi.org/10.1007/s10637-021-01161-y</td>\n",
       "      <td>Tsogtbaatar, K., Sousa, D. A., Ferreira, D., T...</td>\n",
       "      <td>ssDNA</td>\n",
       "      <td>OS-7.9 aptamer</td>\n",
       "      <td>Osteosarcoma MG-63 cell line, Human</td>\n",
       "      <td>5'ATCCAGAGTGACGCAGCAGGGCACATTGTTCACACACAGATCAC...</td>\n",
       "      <td>85</td>\n",
       "      <td>...</td>\n",
       "      <td>7.4</td>\n",
       "      <td>Not reported</td>\n",
       "      <td>Diagnostic and Therapeutic: \" OS-7.9 could rec...</td>\n",
       "      <td>NaN</td>\n",
       "      <td>NaN</td>\n",
       "      <td>10001398</td>\n",
       "      <td>NaN</td>\n",
       "      <td>Rodrigues, L; Email: lrmr@deb.uminho.pt</td>\n",
       "      <td>https://forms.gle/n4TzuyddXQrHYJXF9</td>\n",
       "      <td>5'dApdTpdCpdCpdApdGpdApdGpdTpdGpdApdCpdGpdCpdA...</td>\n",
       "    </tr>\n",
       "    <tr>\n",
       "      <th>1276</th>\n",
       "      <td>2018</td>\n",
       "      <td>https://pubmed.ncbi.nlm.nih.gov/30613143/</td>\n",
       "      <td>Int J Nanomedicine</td>\n",
       "      <td>https://doi.org/10.2147/IJN.S188003</td>\n",
       "      <td>Chen, L., He, W., Jiang, H., Wu, L., Xiong, W....</td>\n",
       "      <td>ssDNA</td>\n",
       "      <td>PB aptamer</td>\n",
       "      <td>Prostate cancer bone metastasis (PB)</td>\n",
       "      <td>5'CGCTCGATCGATCTAGATTCGCTCTATTGATGCCTGCGTGCGTG...</td>\n",
       "      <td>72</td>\n",
       "      <td>...</td>\n",
       "      <td>NaN</td>\n",
       "      <td>Not reported</td>\n",
       "      <td>Drug Delivery and Therapeutic: \" PB is one of ...</td>\n",
       "      <td>Not applicable</td>\n",
       "      <td>NaN</td>\n",
       "      <td>10001234</td>\n",
       "      <td>NaN</td>\n",
       "      <td>Qian, Y., qianyu@wibe.ac.cn</td>\n",
       "      <td>https://forms.gle/n4TzuyddXQrHYJXF9</td>\n",
       "      <td>NaN</td>\n",
       "    </tr>\n",
       "    <tr>\n",
       "      <th>519</th>\n",
       "      <td>2004</td>\n",
       "      <td>https://pubmed.ncbi.nlm.nih.gov/15629041/</td>\n",
       "      <td>Genomics Proteomics Bioinformatics</td>\n",
       "      <td>https://doi.org/10.1016/s1672-0229(04)02005-4</td>\n",
       "      <td>Yan, X., Gao, X., &amp; Zhang, Z. (2004). Isolatio...</td>\n",
       "      <td>2'-amino-RNA</td>\n",
       "      <td>T3.11.7</td>\n",
       "      <td>Tumor necrosis factor alpha (hTNFα), Human</td>\n",
       "      <td>5′GGGAGGACGAUGUUAGGAGUAUCUGAUGACAAUUCGGAGCUCCA...</td>\n",
       "      <td>59</td>\n",
       "      <td>...</td>\n",
       "      <td>7.4</td>\n",
       "      <td>Not reported</td>\n",
       "      <td>Therapeutic and Diagnostic: \"Human tumor necro...</td>\n",
       "      <td>11 nucleotides of 5′- and 1 nucleotide from 3′...</td>\n",
       "      <td>Modfied pool of 2'-NH2-RNA --&gt; .2'-NH2 ,-modif...</td>\n",
       "      <td>10000495</td>\n",
       "      <td>NaN</td>\n",
       "      <td>Zhang, Z., zhangzq@public3.bta.net.cn</td>\n",
       "      <td>https://forms.gle/n4TzuyddXQrHYJXF9</td>\n",
       "      <td>NaN</td>\n",
       "    </tr>\n",
       "    <tr>\n",
       "      <th>282</th>\n",
       "      <td>1999</td>\n",
       "      <td>https://pubmed.ncbi.nlm.nih.gov/10322029/</td>\n",
       "      <td>J Bacteriol</td>\n",
       "      <td>https://doi.org/10.1128/jb.181.10.3246-3255.1999</td>\n",
       "      <td>Goodman, S. D., Velten, N. J., Gao, Q., Robins...</td>\n",
       "      <td>ssDNA</td>\n",
       "      <td>QH'</td>\n",
       "      <td>Integration host factor (IHF)</td>\n",
       "      <td>5′GCCTGCTTTTTTATACTAAGTTGGCAATTATAAAAAAGCATTGC...</td>\n",
       "      <td>75</td>\n",
       "      <td>...</td>\n",
       "      <td>7.8</td>\n",
       "      <td>Not reported</td>\n",
       "      <td>Research: \" Integration host factor (IHF) is a...</td>\n",
       "      <td>NaN</td>\n",
       "      <td>NaN</td>\n",
       "      <td>10000263</td>\n",
       "      <td>NaN</td>\n",
       "      <td>Goodman SD, sgoodman@hsc.usc.edu</td>\n",
       "      <td>https://forms.gle/n4TzuyddXQrHYJXF9</td>\n",
       "      <td>NaN</td>\n",
       "    </tr>\n",
       "    <tr>\n",
       "      <th>472</th>\n",
       "      <td>2004</td>\n",
       "      <td>https://pubmed.ncbi.nlm.nih.gov/14980623/</td>\n",
       "      <td>Bioorg Med Chem</td>\n",
       "      <td>https://doi.org/10.1016/j.bmc.2003.12.009</td>\n",
       "      <td>Masud, M. M., Kuwahara, M., Ozaki, H., &amp; Sawai...</td>\n",
       "      <td>ssDNA</td>\n",
       "      <td>SL-16</td>\n",
       "      <td>Sialyllactose</td>\n",
       "      <td>5′GTACGAATTCACGAGGTTGCCCCGGGCCGCCCCCCTGTACGAAT...</td>\n",
       "      <td>78</td>\n",
       "      <td>...</td>\n",
       "      <td>7.6</td>\n",
       "      <td>Not reported</td>\n",
       "      <td>Therapeutic: \" To our knowledge, this is the f...</td>\n",
       "      <td>Not applicable</td>\n",
       "      <td>NaN</td>\n",
       "      <td>10000448</td>\n",
       "      <td>NaN</td>\n",
       "      <td>Sawai, H, sawai@chem.gunma-u.ac.jp</td>\n",
       "      <td>https://forms.gle/n4TzuyddXQrHYJXF9</td>\n",
       "      <td>NaN</td>\n",
       "    </tr>\n",
       "    <tr>\n",
       "      <th>1405</th>\n",
       "      <td>2021</td>\n",
       "      <td>https://pubmed.ncbi.nlm.nih.gov/33296598/</td>\n",
       "      <td>Anal Chem</td>\n",
       "      <td>https://doi.org/10.1021/acs.analchem.0c03822</td>\n",
       "      <td>Kang, J., Jang, H., Yeom, G., &amp; Kim, M. G. (20...</td>\n",
       "      <td>ssDNA</td>\n",
       "      <td>p24_apt1</td>\n",
       "      <td>Human immunodifficiency virus type 1 (HIV-1) p...</td>\n",
       "      <td>5'AGATACTGCCATTCATTGCATCCACATCGGAGAACAGGCGCACT...</td>\n",
       "      <td>85</td>\n",
       "      <td>...</td>\n",
       "      <td>7.4</td>\n",
       "      <td>Not reported</td>\n",
       "      <td>Detection and Diagnostic: \" The results demons...</td>\n",
       "      <td>Not applicable</td>\n",
       "      <td>*pool not reported, determined from sequence r...</td>\n",
       "      <td>10001361</td>\n",
       "      <td>NaN</td>\n",
       "      <td>Kim MG, mkim@gist.ac.kr</td>\n",
       "      <td>https://forms.gle/n4TzuyddXQrHYJXF9</td>\n",
       "      <td>NaN</td>\n",
       "    </tr>\n",
       "  </tbody>\n",
       "</table>\n",
       "<p>10 rows × 28 columns</p>\n",
       "</div>"
      ]
     },
     "execution_count": 7,
     "metadata": {},
     "output_type": "execute_result"
    }
   ],
   "execution_count": 7
  },
  {
   "metadata": {},
   "cell_type": "markdown",
   "source": "### Работа с числовыми полями",
   "id": "6290f389f2636c16"
  },
  {
   "metadata": {
    "ExecuteTime": {
     "end_time": "2024-07-12T21:42:44.715217Z",
     "start_time": "2024-07-12T21:42:44.711558Z"
    }
   },
   "cell_type": "code",
   "source": "df = df[df.pool_random_region != \"TBD\"]",
   "id": "56524b007ab8ce11",
   "outputs": [],
   "execution_count": 8
  },
  {
   "metadata": {},
   "cell_type": "markdown",
   "source": "Преобразуем молекулярную массу",
   "id": "fb9ad0d21bcc9b53"
  },
  {
   "metadata": {
    "ExecuteTime": {
     "end_time": "2024-07-12T21:42:44.719763Z",
     "start_time": "2024-07-12T21:42:44.715995Z"
    }
   },
   "cell_type": "code",
   "source": [
    "def convert_to_da(value):\n",
    "    if isinstance(value, (int, float)):\n",
    "        return  value\n",
    "    \n",
    "    value = value.lower().strip()\n",
    "    \n",
    "    if pd.isna(value) or value in [\"not reported\", \"n/a\", \"not reported\"]:\n",
    "        return np.nan\n",
    "    \n",
    "    value = str(value).replace(' ', '').strip()\n",
    "    \n",
    "    if 'kda' in value:\n",
    "        return float(re.findall(r'\\d+\\.?\\d*', value)[0]) * 1000\n",
    "    elif 'da' in value or 'g/mol' in value:\n",
    "        return float(re.findall(r'\\d+\\.?\\d*', value)[0])\n",
    "    else:\n",
    "        return np.nan"
   ],
   "id": "797730fef57d8796",
   "outputs": [],
   "execution_count": 9
  },
  {
   "metadata": {
    "ExecuteTime": {
     "end_time": "2024-07-12T21:42:44.725712Z",
     "start_time": "2024-07-12T21:42:44.720574Z"
    }
   },
   "cell_type": "code",
   "source": "df.molecular_weight_of_target = df.molecular_weight_of_target.apply(convert_to_da)",
   "id": "c7eee96d0d3a13c8",
   "outputs": [],
   "execution_count": 10
  },
  {
   "metadata": {},
   "cell_type": "markdown",
   "source": "Преобразуем affinity",
   "id": "ea8888e3fa8c981"
  },
  {
   "metadata": {
    "ExecuteTime": {
     "end_time": "2024-07-12T21:42:44.733156Z",
     "start_time": "2024-07-12T21:42:44.726659Z"
    }
   },
   "cell_type": "code",
   "source": [
    "def affinity_value_convert(text):\n",
    "    pattern = r'(\\d+\\.\\d+|\\d+)'\n",
    "    \n",
    "    range_match = re.match(r'Kd: (\\d+\\.\\d+|\\d+)-(\\d+\\.\\d+|\\d+) nM', text)\n",
    "    if range_match:\n",
    "        start_value = float(range_match.group(1))\n",
    "        end_value = float(range_match.group(2))\n",
    "        return (start_value + end_value) / 2\n",
    "    else:\n",
    "        match = re.search(pattern, text)\n",
    "        if match:\n",
    "            return float(match.group(0))\n",
    "    return None\n",
    "\n",
    "df.affinity = df.affinity.apply(affinity_value_convert)"
   ],
   "id": "18ffa1303f675bb8",
   "outputs": [],
   "execution_count": 11
  },
  {
   "metadata": {},
   "cell_type": "markdown",
   "source": "Остальные поля просто преобразуем в числовой тип",
   "id": "52f775093040f056"
  },
  {
   "metadata": {
    "ExecuteTime": {
     "end_time": "2024-07-12T21:42:44.737491Z",
     "start_time": "2024-07-12T21:42:44.733904Z"
    }
   },
   "cell_type": "code",
   "source": "num_columns = [\"year_of_paper\", \"sequence_length\", \"gc_content\", \"serial_number\", \"ph\", \"affinity\", \"kd_nm\", \"pool_random_region\", \"molecular_weight_of_target\"]",
   "id": "96336299388231b6",
   "outputs": [],
   "execution_count": 12
  },
  {
   "metadata": {
    "ExecuteTime": {
     "end_time": "2024-07-12T21:42:44.743599Z",
     "start_time": "2024-07-12T21:42:44.739050Z"
    }
   },
   "cell_type": "code",
   "source": [
    "for col in num_columns:\n",
    "    df[col] = pd.to_numeric(df[col], errors=\"coerce\")"
   ],
   "id": "dad71cafc0174076",
   "outputs": [],
   "execution_count": 13
  },
  {
   "metadata": {
    "ExecuteTime": {
     "end_time": "2024-07-12T21:42:44.752200Z",
     "start_time": "2024-07-12T21:42:44.744342Z"
    }
   },
   "cell_type": "code",
   "source": "df.info()",
   "id": "fc406b4e22c6afbe",
   "outputs": [
    {
     "name": "stdout",
     "output_type": "stream",
     "text": [
      "<class 'pandas.core.frame.DataFrame'>\n",
      "Index: 1494 entries, 0 to 1494\n",
      "Data columns (total 28 columns):\n",
      " #   Column                                                                                 Non-Null Count  Dtype  \n",
      "---  ------                                                                                 --------------  -----  \n",
      " 0   year_of_paper                                                                          1494 non-null   int64  \n",
      " 1   link_to_pubmed_entry                                                                   1494 non-null   object \n",
      " 2   journals                                                                               1494 non-null   object \n",
      " 3   journal_doi                                                                            1494 non-null   object \n",
      " 4   citation                                                                               1494 non-null   object \n",
      " 5   type_of_nucleic_acid                                                                   1494 non-null   object \n",
      " 6   name_of_aptamer                                                                        1494 non-null   object \n",
      " 7   target                                                                                 1494 non-null   object \n",
      " 8   aptamer_sequence                                                                       1494 non-null   object \n",
      " 9   sequence_length                                                                        1494 non-null   int64  \n",
      " 10  gc_content                                                                             1494 non-null   float64\n",
      " 11  affinity                                                                               1201 non-null   float64\n",
      " 12  kd_nm                                                                                  1111 non-null   float64\n",
      " 13  pool_type                                                                              1494 non-null   object \n",
      " 14  pool_random_region                                                                     1483 non-null   float64\n",
      " 15  binding_buffer_conditions                                                              1494 non-null   object \n",
      " 16  divalent_salt                                                                          955 non-null    object \n",
      " 17  type_of_the_buffer                                                                     1491 non-null   object \n",
      " 18  ph                                                                                     1361 non-null   float64\n",
      " 19  molecular_weight_of_target                                                             236 non-null    float64\n",
      " 20  application_as_quoted_in_the_referenced_paper                                          1494 non-null   object \n",
      " 21  post_selex_modifications_to_the_aptamer                                                1300 non-null   object \n",
      " 22  additional_information                                                                 629 non-null    object \n",
      " 23  serial_number                                                                          1494 non-null   int64  \n",
      " 24  parent_sequence_serial_number                                                          11 non-null     object \n",
      " 25  corresponding_author_name_email_address                                                1493 non-null   object \n",
      " 26  please_fill_out_the_form_for_any_feedbacks_comments                                    1494 non-null   object \n",
      " 27  aptagen_cross_referencing_check_aptamer_chemistry_affinity_length_gc_content_sequence  90 non-null     object \n",
      "dtypes: float64(6), int64(3), object(19)\n",
      "memory usage: 338.5+ KB\n"
     ]
    }
   ],
   "execution_count": 14
  },
  {
   "metadata": {},
   "cell_type": "markdown",
   "source": "### Работа с категориальными столбцами",
   "id": "76b16a96d58554be"
  },
  {
   "metadata": {
    "ExecuteTime": {
     "end_time": "2024-07-12T21:42:44.756649Z",
     "start_time": "2024-07-12T21:42:44.752969Z"
    }
   },
   "cell_type": "code",
   "source": [
    "cat_columns = ['type_of_nucleic_acid', 'type_of_the_buffer',\n",
    "               'divalent_salt']"
   ],
   "id": "90193cd9bc909d93",
   "outputs": [],
   "execution_count": 15
  },
  {
   "metadata": {
    "ExecuteTime": {
     "end_time": "2024-07-12T21:42:44.765204Z",
     "start_time": "2024-07-12T21:42:44.757397Z"
    }
   },
   "cell_type": "code",
   "source": "df = pd.get_dummies(df, columns=cat_columns, prefix=cat_columns)",
   "id": "611be8e524b50072",
   "outputs": [],
   "execution_count": 16
  },
  {
   "metadata": {
    "ExecuteTime": {
     "end_time": "2024-07-12T21:42:44.768608Z",
     "start_time": "2024-07-12T21:42:44.766054Z"
    }
   },
   "cell_type": "code",
   "source": "df.shape",
   "id": "b58c931b33bd58b",
   "outputs": [
    {
     "data": {
      "text/plain": [
       "(1494, 46)"
      ]
     },
     "execution_count": 17,
     "metadata": {},
     "output_type": "execute_result"
    }
   ],
   "execution_count": 17
  },
  {
   "metadata": {},
   "cell_type": "markdown",
   "source": "### Представление SMILES and amino acid sequence ",
   "id": "2acd5590845b5843"
  },
  {
   "metadata": {
    "ExecuteTime": {
     "end_time": "2024-07-12T21:42:44.773112Z",
     "start_time": "2024-07-12T21:42:44.769370Z"
    }
   },
   "cell_type": "code",
   "source": [
    "def get_parameter_name(value):\n",
    "    return urllib.parse.quote(value.replace('(', '').replace(')', '').replace(',', '').strip())"
   ],
   "id": "5e7e5f377270bc34",
   "outputs": [],
   "execution_count": 18
  },
  {
   "metadata": {
    "ExecuteTime": {
     "end_time": "2024-07-12T21:42:44.779173Z",
     "start_time": "2024-07-12T21:42:44.773855Z"
    }
   },
   "cell_type": "code",
   "source": [
    "def get_smiles(compound_name):\n",
    "    url = f\"https://pubchem.ncbi.nlm.nih.gov/rest/pug/compound/name/{get_parameter_name(compound_name)}/property/IsomericSMILES/JSON\"\n",
    "    try:\n",
    "        response = requests.get(url)\n",
    "        if response.status_code == 200:\n",
    "            data = response.json()\n",
    "            return data['PropertyTable']['Properties'][0]['IsomericSMILES']\n",
    "    except:\n",
    "        pass\n",
    "    return None"
   ],
   "id": "12a91845a3399936",
   "outputs": [],
   "execution_count": 19
  },
  {
   "metadata": {
    "ExecuteTime": {
     "end_time": "2024-07-12T21:42:44.783968Z",
     "start_time": "2024-07-12T21:42:44.780039Z"
    }
   },
   "cell_type": "code",
   "source": [
    "def get_protein_sequence(protein_name):\n",
    "    url = f\"https://rest.uniprot.org/uniprotkb/search?query={get_parameter_name(protein_name)}&format=json&fields=sequence\"\n",
    "\n",
    "    try:\n",
    "        response = requests.get(url)\n",
    "        if response.status_code == 200:\n",
    "            data = response.json()\n",
    "            return data['results'][0]['sequence']['value']\n",
    "    except:\n",
    "        pass\n",
    "    return None"
   ],
   "id": "3f12fa91c02722f",
   "outputs": [],
   "execution_count": 20
  },
  {
   "metadata": {
    "ExecuteTime": {
     "end_time": "2024-07-12T21:42:44.788150Z",
     "start_time": "2024-07-12T21:42:44.785180Z"
    }
   },
   "cell_type": "code",
   "source": [
    "def process_target(value):\n",
    "    smiles = get_smiles(value)\n",
    "    if smiles:\n",
    "        return {'result': smiles, 'type': 'small_molecule'}\n",
    "    \n",
    "    sequence = get_protein_sequence(value)\n",
    "    if sequence:\n",
    "        return {'result': sequence, 'type': 'protein'}\n",
    "    \n",
    "    return {'type': 'unknown'}"
   ],
   "id": "661c82f2c47c1fb1",
   "outputs": [],
   "execution_count": 21
  },
  {
   "metadata": {
    "ExecuteTime": {
     "end_time": "2024-07-12T21:42:44.791986Z",
     "start_time": "2024-07-12T21:42:44.789094Z"
    }
   },
   "cell_type": "code",
   "source": [
    "if os.path.exists('../data/processed/target_info.pkl'):\n",
    "    with open('../data/processed/target_info.pkl', 'rb') as f:\n",
    "        target_info = pickle.load(f)\n",
    "else:\n",
    "    target_info = {}"
   ],
   "id": "b1119c01d3cbc9d5",
   "outputs": [],
   "execution_count": 22
  },
  {
   "metadata": {
    "ExecuteTime": {
     "end_time": "2024-07-12T21:42:44.796345Z",
     "start_time": "2024-07-12T21:42:44.792675Z"
    }
   },
   "cell_type": "code",
   "source": "unique_targets = df.target.unique()",
   "id": "123ff879090e14d6",
   "outputs": [],
   "execution_count": 23
  },
  {
   "metadata": {
    "ExecuteTime": {
     "end_time": "2024-07-12T22:01:25.053120Z",
     "start_time": "2024-07-12T21:42:44.797085Z"
    }
   },
   "cell_type": "code",
   "source": [
    "if not os.path.exists('../data/processed/target_info.pkl'):\n",
    "    for target in tqdm.tqdm(unique_targets):\n",
    "        target_info[target] = process_target(target)"
   ],
   "id": "cd609e7d337b3e50",
   "outputs": [
    {
     "name": "stderr",
     "output_type": "stream",
     "text": [
      "100%|██████████| 560/560 [18:40<00:00,  2.00s/it]\n"
     ]
    }
   ],
   "execution_count": 24
  },
  {
   "metadata": {
    "ExecuteTime": {
     "end_time": "2024-07-12T22:11:44.354858Z",
     "start_time": "2024-07-12T22:11:44.349382Z"
    }
   },
   "cell_type": "code",
   "source": [
    "# if not os.path.exists('../data/processed/pre_3_step.pkl'):\n",
    "#     with open('../data/processed/pre_3_step.pkl', 'wb') as f:\n",
    "#         pickle.dump(df, f)"
   ],
   "id": "d112ec3500af8e3e",
   "outputs": [],
   "execution_count": 27
  },
  {
   "metadata": {
    "ExecuteTime": {
     "end_time": "2024-07-12T22:12:16.675734Z",
     "start_time": "2024-07-12T22:12:16.672885Z"
    }
   },
   "cell_type": "code",
   "source": [
    "if not os.path.exists('../data/processed/target_info.pkl'):\n",
    "    with open('../data/processed/target_info.pkl', 'wb') as f:\n",
    "        pickle.dump(target_info, f)"
   ],
   "id": "77ee07161983970a",
   "outputs": [],
   "execution_count": 28
  },
  {
   "metadata": {
    "ExecuteTime": {
     "end_time": "2024-07-12T22:13:19.256417Z",
     "start_time": "2024-07-12T22:13:19.252118Z"
    }
   },
   "cell_type": "code",
   "source": "df[\"target_type\"] = df[\"target\"].map(lambda x: target_info[x]['type'])",
   "id": "4c59b7997b391947",
   "outputs": [],
   "execution_count": 29
  },
  {
   "metadata": {
    "ExecuteTime": {
     "end_time": "2024-07-12T22:16:01.932665Z",
     "start_time": "2024-07-12T22:16:01.928538Z"
    }
   },
   "cell_type": "code",
   "source": [
    "df[\"smiles\"] = df[\"target\"].map(lambda x: target_info[x]['result'] if target_info[x]['type'] == 'small_molecule' else None)\n",
    "\n",
    "df[\"amino_acid_sequence\"] = df[\"target\"].map(lambda x: target_info[x]['result'] if target_info[x]['type'] == 'protein' else None)"
   ],
   "id": "1ea77120657bfda9",
   "outputs": [],
   "execution_count": 31
  },
  {
   "metadata": {
    "ExecuteTime": {
     "end_time": "2024-07-12T22:19:15.271040Z",
     "start_time": "2024-07-12T22:19:15.263344Z"
    }
   },
   "cell_type": "code",
   "source": "df[[\"smiles\", \"amino_acid_sequence\", \"target_type\"]].describe().T",
   "id": "c3c550021233379e",
   "outputs": [
    {
     "data": {
      "text/plain": [
       "                    count unique  \\\n",
       "smiles                 91     34   \n",
       "amino_acid_sequence   785    234   \n",
       "target_type          1494      3   \n",
       "\n",
       "                                                                   top freq  \n",
       "smiles               CC(=O)N[C@@H]1[C@H](C[C@@](O[C@H]1[C@@H]([C@@H...   18  \n",
       "amino_acid_sequence  MAPAMESPTLLCVALLFFAPDGVLAVPQKPKVSLNPPWNRIFKGEN...   36  \n",
       "target_type                                                    protein  785  "
      ],
      "text/html": [
       "<div>\n",
       "<style scoped>\n",
       "    .dataframe tbody tr th:only-of-type {\n",
       "        vertical-align: middle;\n",
       "    }\n",
       "\n",
       "    .dataframe tbody tr th {\n",
       "        vertical-align: top;\n",
       "    }\n",
       "\n",
       "    .dataframe thead th {\n",
       "        text-align: right;\n",
       "    }\n",
       "</style>\n",
       "<table border=\"1\" class=\"dataframe\">\n",
       "  <thead>\n",
       "    <tr style=\"text-align: right;\">\n",
       "      <th></th>\n",
       "      <th>count</th>\n",
       "      <th>unique</th>\n",
       "      <th>top</th>\n",
       "      <th>freq</th>\n",
       "    </tr>\n",
       "  </thead>\n",
       "  <tbody>\n",
       "    <tr>\n",
       "      <th>smiles</th>\n",
       "      <td>91</td>\n",
       "      <td>34</td>\n",
       "      <td>CC(=O)N[C@@H]1[C@H](C[C@@](O[C@H]1[C@@H]([C@@H...</td>\n",
       "      <td>18</td>\n",
       "    </tr>\n",
       "    <tr>\n",
       "      <th>amino_acid_sequence</th>\n",
       "      <td>785</td>\n",
       "      <td>234</td>\n",
       "      <td>MAPAMESPTLLCVALLFFAPDGVLAVPQKPKVSLNPPWNRIFKGEN...</td>\n",
       "      <td>36</td>\n",
       "    </tr>\n",
       "    <tr>\n",
       "      <th>target_type</th>\n",
       "      <td>1494</td>\n",
       "      <td>3</td>\n",
       "      <td>protein</td>\n",
       "      <td>785</td>\n",
       "    </tr>\n",
       "  </tbody>\n",
       "</table>\n",
       "</div>"
      ]
     },
     "execution_count": 36,
     "metadata": {},
     "output_type": "execute_result"
    }
   ],
   "execution_count": 36
  },
  {
   "metadata": {
    "ExecuteTime": {
     "end_time": "2024-07-12T22:23:13.806217Z",
     "start_time": "2024-07-12T22:23:13.800237Z"
    }
   },
   "cell_type": "code",
   "source": "df[[\"smiles\", \"amino_acid_sequence\", \"target_type\"]]",
   "id": "30185211d99fd69b",
   "outputs": [
    {
     "data": {
      "text/plain": [
       "                                                 smiles  \\\n",
       "0     C1=CC=C2C(=C1)C(=O)C3=C(C2=O)C(=C(C=C3NC4=CC(=...   \n",
       "1     C1=CC=C2C(=C1)C(=O)C3=C(C2=O)C(=C(C=C3NC4=CC(=...   \n",
       "2                                                  None   \n",
       "3                                                  None   \n",
       "4                                                  None   \n",
       "...                                                 ...   \n",
       "1490                                               None   \n",
       "1491                                               None   \n",
       "1492                                               None   \n",
       "1493                                               None   \n",
       "1494                                               None   \n",
       "\n",
       "                                    amino_acid_sequence     target_type  \n",
       "0                                                  None  small_molecule  \n",
       "1                                                  None  small_molecule  \n",
       "2     MKEFYISIETVGNNIVERYIDENGKERTREVEYLPTMFRHCKEESK...         protein  \n",
       "3     MKEFYISIETVGNNIVERYIDENGKERTREVEYLPTMFRHCKEESK...         protein  \n",
       "4     MIGGLFIYNHKGEVLISRVYRDDIGRNAVDAFRVNVIHARQQVRSP...         protein  \n",
       "...                                                 ...             ...  \n",
       "1490                                               None         unknown  \n",
       "1491  MWVPVVFLTLSVTWIGAAPLILSRIVGGWECEKHSQPWQVLVASRG...         protein  \n",
       "1492                                               None         unknown  \n",
       "1493                                               None         unknown  \n",
       "1494                                               None         unknown  \n",
       "\n",
       "[1494 rows x 3 columns]"
      ],
      "text/html": [
       "<div>\n",
       "<style scoped>\n",
       "    .dataframe tbody tr th:only-of-type {\n",
       "        vertical-align: middle;\n",
       "    }\n",
       "\n",
       "    .dataframe tbody tr th {\n",
       "        vertical-align: top;\n",
       "    }\n",
       "\n",
       "    .dataframe thead th {\n",
       "        text-align: right;\n",
       "    }\n",
       "</style>\n",
       "<table border=\"1\" class=\"dataframe\">\n",
       "  <thead>\n",
       "    <tr style=\"text-align: right;\">\n",
       "      <th></th>\n",
       "      <th>smiles</th>\n",
       "      <th>amino_acid_sequence</th>\n",
       "      <th>target_type</th>\n",
       "    </tr>\n",
       "  </thead>\n",
       "  <tbody>\n",
       "    <tr>\n",
       "      <th>0</th>\n",
       "      <td>C1=CC=C2C(=C1)C(=O)C3=C(C2=O)C(=C(C=C3NC4=CC(=...</td>\n",
       "      <td>None</td>\n",
       "      <td>small_molecule</td>\n",
       "    </tr>\n",
       "    <tr>\n",
       "      <th>1</th>\n",
       "      <td>C1=CC=C2C(=C1)C(=O)C3=C(C2=O)C(=C(C=C3NC4=CC(=...</td>\n",
       "      <td>None</td>\n",
       "      <td>small_molecule</td>\n",
       "    </tr>\n",
       "    <tr>\n",
       "      <th>2</th>\n",
       "      <td>None</td>\n",
       "      <td>MKEFYISIETVGNNIVERYIDENGKERTREVEYLPTMFRHCKEESK...</td>\n",
       "      <td>protein</td>\n",
       "    </tr>\n",
       "    <tr>\n",
       "      <th>3</th>\n",
       "      <td>None</td>\n",
       "      <td>MKEFYISIETVGNNIVERYIDENGKERTREVEYLPTMFRHCKEESK...</td>\n",
       "      <td>protein</td>\n",
       "    </tr>\n",
       "    <tr>\n",
       "      <th>4</th>\n",
       "      <td>None</td>\n",
       "      <td>MIGGLFIYNHKGEVLISRVYRDDIGRNAVDAFRVNVIHARQQVRSP...</td>\n",
       "      <td>protein</td>\n",
       "    </tr>\n",
       "    <tr>\n",
       "      <th>...</th>\n",
       "      <td>...</td>\n",
       "      <td>...</td>\n",
       "      <td>...</td>\n",
       "    </tr>\n",
       "    <tr>\n",
       "      <th>1490</th>\n",
       "      <td>None</td>\n",
       "      <td>None</td>\n",
       "      <td>unknown</td>\n",
       "    </tr>\n",
       "    <tr>\n",
       "      <th>1491</th>\n",
       "      <td>None</td>\n",
       "      <td>MWVPVVFLTLSVTWIGAAPLILSRIVGGWECEKHSQPWQVLVASRG...</td>\n",
       "      <td>protein</td>\n",
       "    </tr>\n",
       "    <tr>\n",
       "      <th>1492</th>\n",
       "      <td>None</td>\n",
       "      <td>None</td>\n",
       "      <td>unknown</td>\n",
       "    </tr>\n",
       "    <tr>\n",
       "      <th>1493</th>\n",
       "      <td>None</td>\n",
       "      <td>None</td>\n",
       "      <td>unknown</td>\n",
       "    </tr>\n",
       "    <tr>\n",
       "      <th>1494</th>\n",
       "      <td>None</td>\n",
       "      <td>None</td>\n",
       "      <td>unknown</td>\n",
       "    </tr>\n",
       "  </tbody>\n",
       "</table>\n",
       "<p>1494 rows × 3 columns</p>\n",
       "</div>"
      ]
     },
     "execution_count": 37,
     "metadata": {},
     "output_type": "execute_result"
    }
   ],
   "execution_count": 37
  },
  {
   "metadata": {},
   "cell_type": "markdown",
   "source": [
    "К малым молекулам, имеющих `smiles` относятся `6,1%` строк dataset'а.\n",
    "В свою очередь к белковым мишеням с `последовательностями аминокислот` относится `52.5%` записей. Тем самым для `41,4%` тип не был определён."
   ],
   "id": "38914e97eb8d0ceb"
  },
  {
   "metadata": {
    "ExecuteTime": {
     "end_time": "2024-07-12T22:29:04.306222Z",
     "start_time": "2024-07-12T22:29:04.261218Z"
    }
   },
   "cell_type": "code",
   "source": "df.to_csv(\"../data/processed/processed.csv\", index=False)",
   "id": "92744c65ae2c782e",
   "outputs": [],
   "execution_count": 38
  }
 ],
 "metadata": {
  "kernelspec": {
   "display_name": "Python 3",
   "language": "python",
   "name": "python3"
  },
  "language_info": {
   "codemirror_mode": {
    "name": "ipython",
    "version": 2
   },
   "file_extension": ".py",
   "mimetype": "text/x-python",
   "name": "python",
   "nbconvert_exporter": "python",
   "pygments_lexer": "ipython2",
   "version": "2.7.6"
  }
 },
 "nbformat": 4,
 "nbformat_minor": 5
}
